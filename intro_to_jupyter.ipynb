{
 "cells": [
  {
   "cell_type": "markdown",
   "id": "2672afe9",
   "metadata": {},
   "source": [
    "# Introduction\n",
    "\n",
    "Jupyter Notebooks are interactive, web-based platforms that enable the creation and sharing of documents containing live code, equations, visualizations, and narrative text. Initially developed for data science and scientific computing, Jupyter Notebooks now support various programming languages, with Python being the most popular. They are particularly well-suited for data analysis, exploration, and visualization, allowing users to document their processes, execute code in segments, and view results instantly. This functionality makes Jupyter Notebooks a valuable tool for both education and collaboration, seamlessly integrating code execution with rich media and explanatory text."
   ]
  },
  {
   "cell_type": "code",
   "execution_count": 2,
   "id": "2da5b3b1",
   "metadata": {},
   "outputs": [
    {
     "name": "stdout",
     "output_type": "stream",
     "text": [
      "16\n"
     ]
    }
   ],
   "source": [
    "a = 2 + 2 * 7\n",
    "print(a)"
   ]
  },
  {
   "cell_type": "markdown",
   "id": "1aacb829-25c1-44d3-a5d6-6329768b5e8b",
   "metadata": {},
   "source": [
    "# Heading level 1\n",
    "## Heading level 2\n",
    "### Heading level 3\n",
    "#### Heading level 4\n",
    "\n",
    "This is  **bold text**.\n",
    "\n",
    "Italicized text is the *In Italics*."
   ]
  },
  {
   "cell_type": "markdown",
   "id": "beb57f59-ebd9-46f1-9bd2-25efca6ab21a",
   "metadata": {},
   "source": [
    "![Jupyter Logo](https://jupyter.org/assets/homepage/main-logo.svg)\n",
    "\n",
    "[Visit the Jupyter website](https://jupyter.org)"
   ]
  },
  {
   "cell_type": "markdown",
   "id": "f68ac719-8c53-48c0-9ffc-caa3de8cd414",
   "metadata": {},
   "source": [
    "### My Favorite Programming Languages are :\n",
    "\n",
    "1. C++\n",
    "2. Javascript\n",
    "3. Typescript"
   ]
  },
  {
   "cell_type": "code",
   "execution_count": 1,
   "id": "94ae2166-9151-4828-bf6c-53c443c51034",
   "metadata": {},
   "outputs": [
    {
     "name": "stdout",
     "output_type": "stream",
     "text": [
      "3628800\n"
     ]
    }
   ],
   "source": [
    "def factorial(n):\n",
    "    if n == 0 or n == 1:\n",
    "        return 1\n",
    "    else:\n",
    "        return n * factorial(n - 1)\n",
    "    \n",
    "print(factorial(10)) "
   ]
  },
  {
   "cell_type": "code",
   "execution_count": 4,
   "id": "6318208d-4d48-4578-9b90-c9b4f1677955",
   "metadata": {},
   "outputs": [
    {
     "name": "stdout",
     "output_type": "stream",
     "text": [
      "Mean: 14.0\n",
      "Median: 6.0\n"
     ]
    }
   ],
   "source": [
    "import numpy as np\n",
    "\n",
    "data = [1, 7, 2, 5, 6, 6, 10, 80, 9]\n",
    "mean = np.mean(data)\n",
    "median = np.median(data)\n",
    "\n",
    "print(\"Mean:\", mean)\n",
    "print(\"Median:\", median)"
   ]
  },
  {
   "cell_type": "code",
   "execution_count": 5,
   "id": "124845ad-1165-4cde-869b-025d23434911",
   "metadata": {},
   "outputs": [
    {
     "data": {
      "image/png": "[encoded data removed]",
      "text/plain": [
       "<Figure size 640x480 with 1 Axes>"
      ]
     },
     "metadata": {},
     "output_type": "display_data"
    }
   ],
   "source": [
    "import matplotlib.pyplot as plt\n",
    "\n",
    "plt.plot(data)\n",
    "plt.title(\"Line Plot of Data\")\n",
    "plt.xlabel(\"Index\")\n",
    "plt.ylabel(\"Value\")\n",
    "plt.show()"
   ]
  },
  {
   "cell_type": "code",
   "execution_count": 6,
   "id": "17642a2b-2aa0-4370-aa52-76642ee91105",
   "metadata": {},
   "outputs": [
    {
     "data": {
      "application/vnd.jupyter.widget-view+json": {
       "model_id": "07c1ab0a57a641b2837e854a68dba7a5",
       "version_major": 2,
       "version_minor": 0
      },
      "text/plain": [
       "interactive(children=(IntSlider(value=20, description='x', max=60, min=-20), Output()), _dom_classes=('widget-…"
      ]
     },
     "metadata": {},
     "output_type": "display_data"
    },
    {
     "data": {
      "text/plain": [
       "<function __main__.f(x)>"
      ]
     },
     "execution_count": 6,
     "metadata": {},
     "output_type": "execute_result"
    }
   ],
   "source": [
    "from ipywidgets import interact\n",
    "\n",
    "def f(x):\n",
    "    return x\n",
    "\n",
    "interact(f, x=20)"
   ]
  },
  {
   "cell_type": "code",
   "execution_count": 11,
   "id": "537b2284-6e73-4b71-b7b7-0d41c9cfa480",
   "metadata": {},
   "outputs": [],
   "source": [
    "import numpy as np\n",
    "import matplotlib.pyplot as plt\n",
    "from ipywidgets import interact\n",
    "\n",
    "def plot_sine_wave(frequency):\n",
    "    x = np.linspace(0, 2 * np.pi, 1000)\n",
    "    y = np.sin(frequency * x)\n",
    "    plt.plot(x, y)\n",
    "    plt.title(f\"Sine Wave with Frequency = {frequency}\")\n",
    "    plt.xlabel(\"x\")\n",
    "    plt.ylabel(\"sin(x)\")\n",
    "    plt.grid(True)\n",
    "    plt.show()"
   ]
  },
  {
   "cell_type": "code",
   "execution_count": 12,
   "id": "5c4a4515-e218-40a4-bee4-b4408bf3d1bb",
   "metadata": {},
   "outputs": [
    {
     "data": {
      "application/vnd.jupyter.widget-view+json": {
       "model_id": "bbbf9b671d6e4af088fc8dada603bf0e",
       "version_major": 2,
       "version_minor": 0
      },
      "text/plain": [
       "interactive(children=(FloatSlider(value=5.0, description='frequency', max=10.0, min=1.0), Output()), _dom_clas…"
      ]
     },
     "metadata": {},
     "output_type": "display_data"
    },
    {
     "data": {
      "text/plain": [
       "<function __main__.plot_sine_wave(frequency)>"
      ]
     },
     "execution_count": 12,
     "metadata": {},
     "output_type": "execute_result"
    }
   ],
   "source": [
    "interact(plot_sine_wave, frequency=(1, 10, 0.1))"
   ]
  },
  {
   "cell_type": "code",
   "execution_count": null,
   "id": "e589272e-b56d-4f0f-aa58-d44848a8b59b",
   "metadata": {},
   "outputs": [],
   "source": []
  }
 ],
 "metadata": {
  "kernelspec": {
   "display_name": "Python 3 (ipykernel)",
   "language": "python",
   "name": "python3"
  },
  "language_info": {
   "codemirror_mode": {
    "name": "ipython",
    "version": 3
   },
   "file_extension": ".py",
   "mimetype": "text/x-python",
   "name": "python",
   "nbconvert_exporter": "python",
   "pygments_lexer": "ipython3",
   "version": "3.12.5"
  }
 },
 "nbformat": 4,
 "nbformat_minor": 5
}
