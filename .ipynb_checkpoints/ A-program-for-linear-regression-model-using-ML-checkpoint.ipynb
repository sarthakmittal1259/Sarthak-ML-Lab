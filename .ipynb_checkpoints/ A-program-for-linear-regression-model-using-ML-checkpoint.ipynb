{
 "cells": [
  {
   "cell_type": "code",
   "execution_count": 6,
   "id": "bc633b8d-c2a0-4252-8f9c-9b9f8d0129a2",
   "metadata": {},
   "outputs": [],
   "source": [
    "import pandas as pd\n",
    "import numpy as np\n",
    "import matplotlib.pyplot as plt\n",
    "import statsmodels.api as sm"
   ]
  },
  {
   "cell_type": "code",
   "execution_count": 14,
   "id": "93ebbdeb-98b6-467c-8959-f9f2f6038194",
   "metadata": {},
   "outputs": [],
   "source": [
    "df = pd.read_csv('file.csv')"
   ]
  },
  {
   "cell_type": "code",
   "execution_count": 15,
   "id": "5b0ad1a9-567b-4472-baf1-1f5427f5eecb",
   "metadata": {},
   "outputs": [],
   "source": [
    "model = sm.OLS.from_formula('Period ~ Data_value', data = df)"
   ]
  },
  {
   "cell_type": "code",
   "execution_count": 16,
   "id": "b340a52d-31b1-4f84-ac47-066656caea0d",
   "metadata": {},
   "outputs": [],
   "source": [
    "results=model.fit()"
   ]
  },
  {
   "cell_type": "code",
   "execution_count": 17,
   "id": "43f05920-c17d-41fd-8091-2de2ed1d1cec",
   "metadata": {},
   "outputs": [
    {
     "data": {
      "text/plain": [
       "Intercept     2019.576068\n",
       "Data_value       0.000021\n",
       "dtype: float64"
      ]
     },
     "execution_count": 17,
     "metadata": {},
     "output_type": "execute_result"
    }
   ],
   "source": [
    "results.params"
   ]
  }
 ],
 "metadata": {
  "kernelspec": {
   "display_name": "Python 3 (ipykernel)",
   "language": "python",
   "name": "python3"
  },
  "language_info": {
   "codemirror_mode": {
    "name": "ipython",
    "version": 3
   },
   "file_extension": ".py",
   "mimetype": "text/x-python",
   "name": "python",
   "nbconvert_exporter": "python",
   "pygments_lexer": "ipython3",
   "version": "3.12.5"
  }
 },
 "nbformat": 4,
 "nbformat_minor": 5
}
