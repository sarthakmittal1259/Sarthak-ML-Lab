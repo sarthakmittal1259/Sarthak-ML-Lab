{
 "cells": [
  {
   "cell_type": "code",
   "execution_count": 1,
   "id": "65413028-5929-4eb8-ad2c-7c681ab1c341",
   "metadata": {},
   "outputs": [],
   "source": [
    "import pandas as pd\n",
    "import numpy as np"
   ]
  },
  {
   "cell_type": "code",
   "execution_count": 2,
   "id": "57fff393-bbfd-48e4-8e0e-2a5474cd590a",
   "metadata": {},
   "outputs": [],
   "source": [
    "from sklearn.datasets import load_iris\n",
    "iris = load_iris()"
   ]
  },
  {
   "cell_type": "code",
   "execution_count": 3,
   "id": "a326aaae-b2f9-493a-9cc7-a13e8f7c9942",
   "metadata": {},
   "outputs": [],
   "source": [
    "X_df = pd.DataFrame(iris.data, columns=iris.feature_names)\n",
    "y_df = pd.DataFrame(iris.target, columns=[\"species\"])\n",
    "data = pd.concat([X_df, y_df], axis=1)"
   ]
  },
  {
   "cell_type": "code",
   "execution_count": 4,
   "id": "37f1b4c1-dedb-4f9c-a6e3-4e4d3f09b2ca",
   "metadata": {},
   "outputs": [],
   "source": [
    "# Function to calculate entropy\n",
    "def calculate_entropy(target_col):\n",
    "    elements, counts = np.unique(target_col, return_counts=True)\n",
    "    entropy = np.sum([(-counts[i]/np.sum(counts)) * np.log2(counts[i]/np.sum(counts)) for i in range(len(elements))])\n",
    "    return entropy"
   ]
  },
  {
   "cell_type": "code",
   "execution_count": 5,
   "id": "bf67d236-eda6-4146-9dbf-d0f3a94daa42",
   "metadata": {},
   "outputs": [],
   "source": [
    "# Function to calculate information gain\n",
    "def calculate_info_gain(data, split_attribute_name, target_name=\"species\"):\n",
    "    total_entropy = calculate_entropy(data[target_name])\n",
    "\n",
    "    vals, counts = np.unique(data[split_attribute_name], return_counts=True)\n",
    "\n",
    "    weighted_entropy = np.sum([(counts[i]/np.sum(counts)) * calculate_entropy(data.where(data[split_attribute_name]==vals[i]).dropna()[target_name]) for i in range(len(vals))])\n",
    "\n",
    "    info_gain = total_entropy - weighted_entropy\n",
    "    return info_gain"
   ]
  },
  {
   "cell_type": "code",
   "execution_count": 6,
   "id": "aa983a81-9f92-40fc-9996-7f01a21553e2",
   "metadata": {},
   "outputs": [
    {
     "name": "stdout",
     "output_type": "stream",
     "text": [
      "Total Entropy of dataset: 1.584962500721156\n"
     ]
    }
   ],
   "source": [
    "total_entropy = calculate_entropy(data[\"species\"])\n",
    "print(f\"Total Entropy of dataset: {total_entropy}\")"
   ]
  },
  {
   "cell_type": "code",
   "execution_count": 7,
   "id": "e781f98e-1954-4473-a070-199cc1f6d780",
   "metadata": {},
   "outputs": [
    {
     "name": "stdout",
     "output_type": "stream",
     "text": [
      "Information Gain for sepal length (cm): 0.8769376208910578\n",
      "Information Gain for sepal width (cm): 0.5166428756804977\n",
      "Information Gain for petal length (cm): 1.4463165236458\n",
      "Information Gain for petal width (cm): 1.4358978386754417\n"
     ]
    }
   ],
   "source": [
    "for feature in iris.feature_names:\n",
    "    info_gain = calculate_info_gain(data, feature)\n",
    "    print(f\"Information Gain for {feature}: {info_gain}\")"
   ]
  },
  {
   "cell_type": "code",
   "execution_count": 8,
   "id": "5198c534-7377-493b-a424-281edb6bd26d",
   "metadata": {},
   "outputs": [
    {
     "name": "stdout",
     "output_type": "stream",
     "text": [
      "\n",
      "Best feature to split on: petal length (cm)\n"
     ]
    }
   ],
   "source": [
    "best_feature = max(iris.feature_names, key=lambda feature: calculate_info_gain(data, feature))\n",
    "print(f\"\\nBest feature to split on: {best_feature}\")"
   ]
  },
  {
   "cell_type": "code",
   "execution_count": null,
   "id": "f5e73c97-11de-4fef-9d21-dc5cd55e9087",
   "metadata": {},
   "outputs": [],
   "source": []
  }
 ],
 "metadata": {
  "kernelspec": {
   "display_name": "Python 3 (ipykernel)",
   "language": "python",
   "name": "python3"
  },
  "language_info": {
   "codemirror_mode": {
    "name": "ipython",
    "version": 3
   },
   "file_extension": ".py",
   "mimetype": "text/x-python",
   "name": "python",
   "nbconvert_exporter": "python",
   "pygments_lexer": "ipython3",
   "version": "3.12.5"
  }
 },
 "nbformat": 4,
 "nbformat_minor": 5
}
